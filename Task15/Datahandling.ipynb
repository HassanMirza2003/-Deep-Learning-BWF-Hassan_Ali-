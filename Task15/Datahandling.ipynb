{
  "nbformat": 4,
  "nbformat_minor": 0,
  "metadata": {
    "colab": {
      "provenance": []
    },
    "kernelspec": {
      "name": "python3",
      "display_name": "Python 3"
    },
    "language_info": {
      "name": "python"
    }
  },
  "cells": [
    {
      "cell_type": "code",
      "execution_count": 2,
      "metadata": {
        "colab": {
          "base_uri": "https://localhost:8080/"
        },
        "id": "rVnQ8BWHnAC-",
        "outputId": "9eee7569-6569-443f-e52a-617e3c161250"
      },
      "outputs": [
        {
          "output_type": "stream",
          "name": "stdout",
          "text": [
            "    Name  OrderDate  OrderTotal  UsedCoupon\n",
            "0  False      False       False       False\n",
            "1  False      False        True       False\n",
            "2  False      False       False       False\n",
            "3  False      False        True       False\n"
          ]
        }
      ],
      "source": [
        "import pandas as pd\n",
        "import numpy as np\n",
        "\n",
        "# create a sample dataset\n",
        "data = {'Name': ['Hassan', 'ALi', 'Muneeb', 'Ahmed'],\n",
        "        'OrderDate': ['2022-01-01', '2022-01-02', '2022-01-03', '2022-01-04'],\n",
        "        'OrderTotal': [100.0, np.nan, 50.0, np.nan],\n",
        "        'UsedCoupon': [True, False, True, False]}\n",
        "\n",
        "df = pd.DataFrame(data)\n",
        "print(df.isnull())\n"
      ]
    },
    {
      "cell_type": "code",
      "source": [
        "# fill in missing values with mean\n",
        "df['OrderTotal'].fillna(df['OrderTotal'].mean(), inplace=True)\n",
        "print(df.isnull())"
      ],
      "metadata": {
        "colab": {
          "base_uri": "https://localhost:8080/"
        },
        "id": "HnFc5fVsoD7h",
        "outputId": "5a435a1d-a061-4e26-dc8a-19b8c26cf76e"
      },
      "execution_count": 5,
      "outputs": [
        {
          "output_type": "stream",
          "name": "stdout",
          "text": [
            "    Name  OrderDate  OrderTotal  UsedCoupon\n",
            "0  False      False       False       False\n",
            "1  False      False       False       False\n",
            "2  False      False       False       False\n",
            "3  False      False       False       False\n"
          ]
        },
        {
          "output_type": "stream",
          "name": "stderr",
          "text": [
            "<ipython-input-5-196c806cd98b>:2: FutureWarning: Dropping of nuisance columns in DataFrame reductions (with 'numeric_only=None') is deprecated; in a future version this will raise TypeError.  Select only valid columns before calling the reduction.\n",
            "  df.fillna(df.mean(), inplace=True)\n"
          ]
        }
      ]
    },
    {
      "cell_type": "code",
      "source": [
        "data = {'OrderID': [1, 2, 3, 4],\n",
        "        'Product': ['Sofa', 'Chair', 'Lamp', 'Soffa'],\n",
        "        'Price': [100, 50, 25, 200]}\n",
        "\n",
        "df = pd.DataFrame(data)\n",
        "\n",
        "# replace misspelled product name\n",
        "df['Product'].replace({'Soffa': 'Sofa'}, inplace=True)\n",
        "\n",
        "print(df)\n"
      ],
      "metadata": {
        "colab": {
          "base_uri": "https://localhost:8080/"
        },
        "id": "aVc5oVAro2AX",
        "outputId": "bbb0ff80-3ce0-4d7f-94f0-eec1d5884398"
      },
      "execution_count": 6,
      "outputs": [
        {
          "output_type": "stream",
          "name": "stdout",
          "text": [
            "   OrderID Product  Price\n",
            "0        1    Sofa    100\n",
            "1        2   Chair     50\n",
            "2        3    Lamp     25\n",
            "3        4    Sofa    200\n"
          ]
        }
      ]
    },
    {
      "cell_type": "code",
      "source": [
        "Data = {'OrderID': [1, 2, 2, 3, 4, 4],\n",
        "        'Product': ['Sofa', 'Chair', 'Chair', 'Lamp', 'Sofa', 'Lamp'],\n",
        "        'Price': [100, 50, 50, 25, 200, 25]}\n",
        "\n",
        "df = pd.DataFrame(Data)\n",
        "\n",
        "# remove duplicate orders\n",
        "df.drop_duplicates(inplace=True)\n",
        "\n",
        "print(df)\n"
      ],
      "metadata": {
        "colab": {
          "base_uri": "https://localhost:8080/"
        },
        "id": "goedkpvIo6Cl",
        "outputId": "f612b771-a6cc-4f62-b255-d0d83e8260b4"
      },
      "execution_count": 7,
      "outputs": [
        {
          "output_type": "stream",
          "name": "stdout",
          "text": [
            "   OrderID Product  Price\n",
            "0        1    Sofa    100\n",
            "1        2   Chair     50\n",
            "3        3    Lamp     25\n",
            "4        4    Sofa    200\n",
            "5        4    Lamp     25\n"
          ]
        }
      ]
    },
    {
      "cell_type": "code",
      "source": [
        "import matplotlib.pyplot as plt\n",
        "data = {'A': [1, 2, 3, 4, 5, 6, 7, 8, 9, 10, 50]}\n",
        "df = pd.DataFrame(data)\n",
        "\n",
        "# create a boxplot of column A\n",
        "df.boxplot(column='A')\n",
        "plt.show()\n"
      ],
      "metadata": {
        "colab": {
          "base_uri": "https://localhost:8080/",
          "height": 430
        },
        "id": "tYGJS7hnpK73",
        "outputId": "fa8f89d4-77b6-4d1b-9e5a-b2e125327bdc"
      },
      "execution_count": 8,
      "outputs": [
        {
          "output_type": "display_data",
          "data": {
            "text/plain": [
              "<Figure size 640x480 with 1 Axes>"
            ],
            "image/png": "[encoded data removed]"
          },
          "metadata": {}
        }
      ]
    },
    {
      "cell_type": "code",
      "source": [
        "Q1 = df['A'].quantile(0.25)\n",
        "Q3 = df['A'].quantile(0.75)\n",
        "IQR = Q3 - Q1\n",
        "\n",
        "# remove outliers\n",
        "df = df[(df['A'] >= Q1 - 1.5 * IQR) & (df['A'] <= Q3 + 1.5 * IQR)]\n",
        "\n",
        "print(df)\n"
      ],
      "metadata": {
        "colab": {
          "base_uri": "https://localhost:8080/"
        },
        "id": "knTlJDA8pwec",
        "outputId": "dd985bf4-59b4-419a-fbda-a60c82ce58ce"
      },
      "execution_count": 9,
      "outputs": [
        {
          "output_type": "stream",
          "name": "stdout",
          "text": [
            "    A\n",
            "0   1\n",
            "1   2\n",
            "2   3\n",
            "3   4\n",
            "4   5\n",
            "5   6\n",
            "6   7\n",
            "7   8\n",
            "8   9\n",
            "9  10\n"
          ]
        }
      ]
    }
  ]
}