{
  "nbformat": 4,
  "nbformat_minor": 0,
  "metadata": {
    "colab": {
      "provenance": []
    },
    "kernelspec": {
      "name": "python3",
      "display_name": "Python 3"
    },
    "language_info": {
      "name": "python"
    }
  },
  "cells": [
    {
      "cell_type": "code",
      "execution_count": 3,
      "metadata": {
        "id": "d5DinacfYrI2"
      },
      "outputs": [],
      "source": [
        "from keras.datasets import boston_housing\n",
        "\n",
        "\n"
      ]
    },
    {
      "cell_type": "code",
      "source": [
        "(train_data, train_target), (test_data, test_target) = boston_housing.load_data() \n"
      ],
      "metadata": {
        "id": "RGWocbqgaHV0",
        "colab": {
          "base_uri": "https://localhost:8080/"
        },
        "outputId": "4d7807f0-a6ea-4bc2-bec7-7acc1177f7dc"
      },
      "execution_count": 4,
      "outputs": [
        {
          "output_type": "stream",
          "name": "stdout",
          "text": [
            "Downloading data from https://storage.googleapis.com/tensorflow/tf-keras-datasets/boston_housing.npz\n",
            "57026/57026 [==============================] - 0s 0us/step\n"
          ]
        }
      ]
    },
    {
      "cell_type": "code",
      "source": [
        "import pandas as pd\n",
        "\n",
        "pd.DataFrame(train_data)\n"
      ],
      "metadata": {
        "colab": {
          "base_uri": "https://localhost:8080/",
          "height": 423
        },
        "id": "KzVS0fIzaQo3",
        "outputId": "08cf13a8-fe13-4ee9-fc08-8a55696e05cb"
      },
      "execution_count": 5,
      "outputs": [
        {
          "output_type": "execute_result",
          "data": {
            "text/plain": [
              "          0     1      2    3       4      5      6       7     8      9   \\\n",
              "0    1.23247   0.0   8.14  0.0  0.5380  6.142   91.7  3.9769   4.0  307.0   \n",
              "1    0.02177  82.5   2.03  0.0  0.4150  7.610   15.7  6.2700   2.0  348.0   \n",
              "2    4.89822   0.0  18.10  0.0  0.6310  4.970  100.0  1.3325  24.0  666.0   \n",
              "3    0.03961   0.0   5.19  0.0  0.5150  6.037   34.5  5.9853   5.0  224.0   \n",
              "4    3.69311   0.0  18.10  0.0  0.7130  6.376   88.4  2.5671  24.0  666.0   \n",
              "..       ...   ...    ...  ...     ...    ...    ...     ...   ...    ...   \n",
              "399  0.21977   0.0   6.91  0.0  0.4480  5.602   62.0  6.0877   3.0  233.0   \n",
              "400  0.16211  20.0   6.96  0.0  0.4640  6.240   16.3  4.4290   3.0  223.0   \n",
              "401  0.03466  35.0   6.06  0.0  0.4379  6.031   23.3  6.6407   1.0  304.0   \n",
              "402  2.14918   0.0  19.58  0.0  0.8710  5.709   98.5  1.6232   5.0  403.0   \n",
              "403  0.01439  60.0   2.93  0.0  0.4010  6.604   18.8  6.2196   1.0  265.0   \n",
              "\n",
              "       10      11     12  \n",
              "0    21.0  396.90  18.72  \n",
              "1    14.7  395.38   3.11  \n",
              "2    20.2  375.52   3.26  \n",
              "3    20.2  396.90   8.01  \n",
              "4    20.2  391.43  14.65  \n",
              "..    ...     ...    ...  \n",
              "399  17.9  396.90  16.20  \n",
              "400  18.6  396.90   6.59  \n",
              "401  16.9  362.25   7.83  \n",
              "402  14.7  261.95  15.79  \n",
              "403  15.6  376.70   4.38  \n",
              "\n",
              "[404 rows x 13 columns]"
            ],
            "text/html": [
              "\n",
              "  <div id=\"df-9c797a88-c9a6-4852-9c18-56ebc34f43cc\">\n",
              "    <div class=\"colab-df-container\">\n",
              "      <div>\n",
              "<style scoped>\n",
              "    .dataframe tbody tr th:only-of-type {\n",
              "        vertical-align: middle;\n",
              "    }\n",
              "\n",
              "    .dataframe tbody tr th {\n",
              "        vertical-align: top;\n",
              "    }\n",
              "\n",
              "    .dataframe thead th {\n",
              "        text-align: right;\n",
              "    }\n",
              "</style>\n",
              "<table border=\"1\" class=\"dataframe\">\n",
              "  <thead>\n",
              "    <tr style=\"text-align: right;\">\n",
              "      <th></th>\n",
              "      <th>0</th>\n",
              "      <th>1</th>\n",
              "      <th>2</th>\n",
              "      <th>3</th>\n",
              "      <th>4</th>\n",
              "      <th>5</th>\n",
              "      <th>6</th>\n",
              "      <th>7</th>\n",
              "      <th>8</th>\n",
              "      <th>9</th>\n",
              "      <th>10</th>\n",
              "      <th>11</th>\n",
              "      <th>12</th>\n",
              "    </tr>\n",
              "  </thead>\n",
              "  <tbody>\n",
              "    <tr>\n",
              "      <th>0</th>\n",
              "      <td>1.23247</td>\n",
              "      <td>0.0</td>\n",
              "      <td>8.14</td>\n",
              "      <td>0.0</td>\n",
              "      <td>0.5380</td>\n",
              "      <td>6.142</td>\n",
              "      <td>91.7</td>\n",
              "      <td>3.9769</td>\n",
              "      <td>4.0</td>\n",
              "      <td>307.0</td>\n",
              "      <td>21.0</td>\n",
              "      <td>396.90</td>\n",
              "      <td>18.72</td>\n",
              "    </tr>\n",
              "    <tr>\n",
              "      <th>1</th>\n",
              "      <td>0.02177</td>\n",
              "      <td>82.5</td>\n",
              "      <td>2.03</td>\n",
              "      <td>0.0</td>\n",
              "      <td>0.4150</td>\n",
              "      <td>7.610</td>\n",
              "      <td>15.7</td>\n",
              "      <td>6.2700</td>\n",
              "      <td>2.0</td>\n",
              "      <td>348.0</td>\n",
              "      <td>14.7</td>\n",
              "      <td>395.38</td>\n",
              "      <td>3.11</td>\n",
              "    </tr>\n",
              "    <tr>\n",
              "      <th>2</th>\n",
              "      <td>4.89822</td>\n",
              "      <td>0.0</td>\n",
              "      <td>18.10</td>\n",
              "      <td>0.0</td>\n",
              "      <td>0.6310</td>\n",
              "      <td>4.970</td>\n",
              "      <td>100.0</td>\n",
              "      <td>1.3325</td>\n",
              "      <td>24.0</td>\n",
              "      <td>666.0</td>\n",
              "      <td>20.2</td>\n",
              "      <td>375.52</td>\n",
              "      <td>3.26</td>\n",
              "    </tr>\n",
              "    <tr>\n",
              "      <th>3</th>\n",
              "      <td>0.03961</td>\n",
              "      <td>0.0</td>\n",
              "      <td>5.19</td>\n",
              "      <td>0.0</td>\n",
              "      <td>0.5150</td>\n",
              "      <td>6.037</td>\n",
              "      <td>34.5</td>\n",
              "      <td>5.9853</td>\n",
              "      <td>5.0</td>\n",
              "      <td>224.0</td>\n",
              "      <td>20.2</td>\n",
              "      <td>396.90</td>\n",
              "      <td>8.01</td>\n",
              "    </tr>\n",
              "    <tr>\n",
              "      <th>4</th>\n",
              "      <td>3.69311</td>\n",
              "      <td>0.0</td>\n",
              "      <td>18.10</td>\n",
              "      <td>0.0</td>\n",
              "      <td>0.7130</td>\n",
              "      <td>6.376</td>\n",
              "      <td>88.4</td>\n",
              "      <td>2.5671</td>\n",
              "      <td>24.0</td>\n",
              "      <td>666.0</td>\n",
              "      <td>20.2</td>\n",
              "      <td>391.43</td>\n",
              "      <td>14.65</td>\n",
              "    </tr>\n",
              "    <tr>\n",
              "      <th>...</th>\n",
              "      <td>...</td>\n",
              "      <td>...</td>\n",
              "      <td>...</td>\n",
              "      <td>...</td>\n",
              "      <td>...</td>\n",
              "      <td>...</td>\n",
              "      <td>...</td>\n",
              "      <td>...</td>\n",
              "      <td>...</td>\n",
              "      <td>...</td>\n",
              "      <td>...</td>\n",
              "      <td>...</td>\n",
              "      <td>...</td>\n",
              "    </tr>\n",
              "    <tr>\n",
              "      <th>399</th>\n",
              "      <td>0.21977</td>\n",
              "      <td>0.0</td>\n",
              "      <td>6.91</td>\n",
              "      <td>0.0</td>\n",
              "      <td>0.4480</td>\n",
              "      <td>5.602</td>\n",
              "      <td>62.0</td>\n",
              "      <td>6.0877</td>\n",
              "      <td>3.0</td>\n",
              "      <td>233.0</td>\n",
              "      <td>17.9</td>\n",
              "      <td>396.90</td>\n",
              "      <td>16.20</td>\n",
              "    </tr>\n",
              "    <tr>\n",
              "      <th>400</th>\n",
              "      <td>0.16211</td>\n",
              "      <td>20.0</td>\n",
              "      <td>6.96</td>\n",
              "      <td>0.0</td>\n",
              "      <td>0.4640</td>\n",
              "      <td>6.240</td>\n",
              "      <td>16.3</td>\n",
              "      <td>4.4290</td>\n",
              "      <td>3.0</td>\n",
              "      <td>223.0</td>\n",
              "      <td>18.6</td>\n",
              "      <td>396.90</td>\n",
              "      <td>6.59</td>\n",
              "    </tr>\n",
              "    <tr>\n",
              "      <th>401</th>\n",
              "      <td>0.03466</td>\n",
              "      <td>35.0</td>\n",
              "      <td>6.06</td>\n",
              "      <td>0.0</td>\n",
              "      <td>0.4379</td>\n",
              "      <td>6.031</td>\n",
              "      <td>23.3</td>\n",
              "      <td>6.6407</td>\n",
              "      <td>1.0</td>\n",
              "      <td>304.0</td>\n",
              "      <td>16.9</td>\n",
              "      <td>362.25</td>\n",
              "      <td>7.83</td>\n",
              "    </tr>\n",
              "    <tr>\n",
              "      <th>402</th>\n",
              "      <td>2.14918</td>\n",
              "      <td>0.0</td>\n",
              "      <td>19.58</td>\n",
              "      <td>0.0</td>\n",
              "      <td>0.8710</td>\n",
              "      <td>5.709</td>\n",
              "      <td>98.5</td>\n",
              "      <td>1.6232</td>\n",
              "      <td>5.0</td>\n",
              "      <td>403.0</td>\n",
              "      <td>14.7</td>\n",
              "      <td>261.95</td>\n",
              "      <td>15.79</td>\n",
              "    </tr>\n",
              "    <tr>\n",
              "      <th>403</th>\n",
              "      <td>0.01439</td>\n",
              "      <td>60.0</td>\n",
              "      <td>2.93</td>\n",
              "      <td>0.0</td>\n",
              "      <td>0.4010</td>\n",
              "      <td>6.604</td>\n",
              "      <td>18.8</td>\n",
              "      <td>6.2196</td>\n",
              "      <td>1.0</td>\n",
              "      <td>265.0</td>\n",
              "      <td>15.6</td>\n",
              "      <td>376.70</td>\n",
              "      <td>4.38</td>\n",
              "    </tr>\n",
              "  </tbody>\n",
              "</table>\n",
              "<p>404 rows × 13 columns</p>\n",
              "</div>\n",
              "      <button class=\"colab-df-convert\" onclick=\"convertToInteractive('df-9c797a88-c9a6-4852-9c18-56ebc34f43cc')\"\n",
              "              title=\"Convert this dataframe to an interactive table.\"\n",
              "              style=\"display:none;\">\n",
              "        \n",
              "  <svg xmlns=\"http://www.w3.org/2000/svg\" height=\"24px\"viewBox=\"0 0 24 24\"\n",
              "       width=\"24px\">\n",
              "    <path d=\"M0 0h24v24H0V0z\" fill=\"none\"/>\n",
              "    <path d=\"M18.56 5.44l.94 2.06.94-2.06 2.06-.94-2.06-.94-.94-2.06-.94 2.06-2.06.94zm-11 1L8.5 8.5l.94-2.06 2.06-.94-2.06-.94L8.5 2.5l-.94 2.06-2.06.94zm10 10l.94 2.06.94-2.06 2.06-.94-2.06-.94-.94-2.06-.94 2.06-2.06.94z\"/><path d=\"M17.41 7.96l-1.37-1.37c-.4-.4-.92-.59-1.43-.59-.52 0-1.04.2-1.43.59L10.3 9.45l-7.72 7.72c-.78.78-.78 2.05 0 2.83L4 21.41c.39.39.9.59 1.41.59.51 0 1.02-.2 1.41-.59l7.78-7.78 2.81-2.81c.8-.78.8-2.07 0-2.86zM5.41 20L4 18.59l7.72-7.72 1.47 1.35L5.41 20z\"/>\n",
              "  </svg>\n",
              "      </button>\n",
              "      \n",
              "  <style>\n",
              "    .colab-df-container {\n",
              "      display:flex;\n",
              "      flex-wrap:wrap;\n",
              "      gap: 12px;\n",
              "    }\n",
              "\n",
              "    .colab-df-convert {\n",
              "      background-color: #E8F0FE;\n",
              "      border: none;\n",
              "      border-radius: 50%;\n",
              "      cursor: pointer;\n",
              "      display: none;\n",
              "      fill: #1967D2;\n",
              "      height: 32px;\n",
              "      padding: 0 0 0 0;\n",
              "      width: 32px;\n",
              "    }\n",
              "\n",
              "    .colab-df-convert:hover {\n",
              "      background-color: #E2EBFA;\n",
              "      box-shadow: 0px 1px 2px rgba(60, 64, 67, 0.3), 0px 1px 3px 1px rgba(60, 64, 67, 0.15);\n",
              "      fill: #174EA6;\n",
              "    }\n",
              "\n",
              "    [theme=dark] .colab-df-convert {\n",
              "      background-color: #3B4455;\n",
              "      fill: #D2E3FC;\n",
              "    }\n",
              "\n",
              "    [theme=dark] .colab-df-convert:hover {\n",
              "      background-color: #434B5C;\n",
              "      box-shadow: 0px 1px 3px 1px rgba(0, 0, 0, 0.15);\n",
              "      filter: drop-shadow(0px 1px 2px rgba(0, 0, 0, 0.3));\n",
              "      fill: #FFFFFF;\n",
              "    }\n",
              "  </style>\n",
              "\n",
              "      <script>\n",
              "        const buttonEl =\n",
              "          document.querySelector('#df-9c797a88-c9a6-4852-9c18-56ebc34f43cc button.colab-df-convert');\n",
              "        buttonEl.style.display =\n",
              "          google.colab.kernel.accessAllowed ? 'block' : 'none';\n",
              "\n",
              "        async function convertToInteractive(key) {\n",
              "          const element = document.querySelector('#df-9c797a88-c9a6-4852-9c18-56ebc34f43cc');\n",
              "          const dataTable =\n",
              "            await google.colab.kernel.invokeFunction('convertToInteractive',\n",
              "                                                     [key], {});\n",
              "          if (!dataTable) return;\n",
              "\n",
              "          const docLinkHtml = 'Like what you see? Visit the ' +\n",
              "            '<a target=\"_blank\" href=https://colab.research.google.com/notebooks/data_table.ipynb>data table notebook</a>'\n",
              "            + ' to learn more about interactive tables.';\n",
              "          element.innerHTML = '';\n",
              "          dataTable['output_type'] = 'display_data';\n",
              "          await google.colab.output.renderOutput(dataTable, element);\n",
              "          const docLink = document.createElement('div');\n",
              "          docLink.innerHTML = docLinkHtml;\n",
              "          element.appendChild(docLink);\n",
              "        }\n",
              "      </script>\n",
              "    </div>\n",
              "  </div>\n",
              "  "
            ]
          },
          "metadata": {},
          "execution_count": 5
        }
      ]
    },
    {
      "cell_type": "code",
      "source": [
        "import numpy as np\n",
        "\n",
        "train_mean = np.mean(train_data, axis=0)\n",
        "train_data -= train_mean\n",
        "\n",
        "train_std = np.std(train_data, axis=0)\n",
        "train_data /= train_std\n",
        "\n",
        "test_data -= train_mean\n",
        "test_data /= train_std\n"
      ],
      "metadata": {
        "id": "-YNCYRWyaTgm"
      },
      "execution_count": 6,
      "outputs": []
    },
    {
      "cell_type": "code",
      "source": [
        "from keras import layers, models, losses, optimizers\n",
        "\n",
        "def make_model():\n",
        "\n",
        "    model = models.Sequential()\n",
        "    model.add(layers.Dense(64, activation='relu', input_shape=(train_data.shape[1],)))\n",
        "    model.add(layers.Dense(64, activation='relu'))\n",
        "    model.add(layers.Dense(1))\n",
        "    \n",
        "    model.compile(optimizer='rmsprop', loss='mse', metrics=['mae'])\n",
        "    return model\n"
      ],
      "metadata": {
        "id": "Trxmx3dyaV_0"
      },
      "execution_count": 7,
      "outputs": []
    },
    {
      "cell_type": "code",
      "source": [
        "def kFold(k, num_val_samples, num_epochs):\n",
        "\n",
        "    all_scores = []\n",
        "\n",
        "    for i in range(k):\n",
        "        print(\"Fold #\" + str(i))\n",
        "\n",
        "        val_data = train_data[i * num_val_samples: (i + 1) * num_val_samples]\n",
        "        val_target = train_target[i * num_val_samples: (i + 1) * num_val_samples]\n",
        "\n",
        "        partial_train_data = np.concatenate([train_data[:i * num_val_samples], \n",
        "                                            train_data[(i + 1) * num_val_samples:]], \n",
        "                                            axis=0)\n",
        "\n",
        "        partial_train_target = np.concatenate([train_target[:i * num_val_samples],\n",
        "                                                train_target[(i + 1) * num_val_samples:]],\n",
        "                                                axis=0)\n",
        "        \n",
        "        model = make_model()\n",
        "\n",
        "        model.fit(partial_train_data, partial_train_target,epochs=num_epochs, batch_size=1, verbose=0)\n",
        "        val_mse, val_mae = model.evaluate(val_data, val_target, verbose=0)\n",
        "        \n",
        "        all_scores.append(val_mae)\n",
        "\n",
        "    return all_scores\n"
      ],
      "metadata": {
        "id": "OGDjNK9DaYSn"
      },
      "execution_count": 8,
      "outputs": []
    },
    {
      "cell_type": "code",
      "source": [
        "k = 4\n",
        "num_val_samples = len(train_data) // k\n",
        "num_epochs = 100\n",
        "\n",
        "all_scores = kFold(k, num_val_samples, num_epochs)\n",
        "\n",
        "all_scores\n"
      ],
      "metadata": {
        "colab": {
          "base_uri": "https://localhost:8080/"
        },
        "id": "HkOPs-Meab3A",
        "outputId": "c392c344-44b3-4c09-c73a-a8f5806d8375"
      },
      "execution_count": 9,
      "outputs": [
        {
          "output_type": "stream",
          "name": "stdout",
          "text": [
            "Fold #0\n",
            "Fold #1\n",
            "Fold #2\n",
            "Fold #3\n"
          ]
        },
        {
          "output_type": "execute_result",
          "data": {
            "text/plain": [
              "[2.3856399059295654, 2.6351590156555176, 2.648066997528076, 2.4532508850097656]"
            ]
          },
          "metadata": {},
          "execution_count": 9
        }
      ]
    },
    {
      "cell_type": "code",
      "source": [
        "all_mae_histories = []\n",
        "\n",
        "for i in range(k):\n",
        "    print(\"Fold #\" + str(i))\n",
        "\n",
        "    val_data = train_data[i * num_val_samples: (i + 1) * num_val_samples]\n",
        "    val_target = train_target[i * num_val_samples: (i + 1) * num_val_samples]\n",
        "\n",
        "    partial_train_data = np.concatenate([train_data[:i * num_val_samples], \n",
        "                                        train_data[(i + 1) * num_val_samples:]], \n",
        "                                        axis=0)\n",
        "\n",
        "    partial_train_target = np.concatenate([train_target[:i * num_val_samples],\n",
        "                                            train_target[(i + 1) * num_val_samples:]],\n",
        "                                            axis=0)\n",
        "    \n",
        "    model = make_model()\n",
        "\n",
        "    history = model.fit(partial_train_data, partial_train_target,\n",
        "        validation_data=(val_data, val_target),\n",
        "        epochs=500, batch_size=1, verbose=0)\n",
        "    \n",
        "    mae_history = history.history['val_mae']\n",
        "    val_mse, val_mae = model.evaluate(val_data, val_target, verbose=0)\n",
        "\n",
        "    all_mae_histories.append(mae_history)\n"
      ],
      "metadata": {
        "colab": {
          "base_uri": "https://localhost:8080/"
        },
        "id": "jfUrbbD1aehR",
        "outputId": "d305b03c-ea39-423e-9fb9-951307fb1493"
      },
      "execution_count": 10,
      "outputs": [
        {
          "output_type": "stream",
          "name": "stdout",
          "text": [
            "Fold #0\n",
            "Fold #1\n",
            "Fold #2\n",
            "Fold #3\n"
          ]
        }
      ]
    },
    {
      "cell_type": "code",
      "source": [
        "len(all_mae_histories[0])\n",
        "average_mae_history = [np.mean([x[i] for x in all_mae_histories]) for i in range(500)]\n"
      ],
      "metadata": {
        "id": "sqGZU-j_gjio"
      },
      "execution_count": 11,
      "outputs": []
    },
    {
      "cell_type": "code",
      "source": [
        "import matplotlib.pyplot as plt\n",
        "\n",
        "plt.plot(range(1, len(average_mae_history) + 1), average_mae_history)\n",
        "plt.xlabel('Epochs')\n",
        "plt.ylabel('Validation MAE')\n",
        "plt.show()\n"
      ],
      "metadata": {
        "colab": {
          "base_uri": "https://localhost:8080/",
          "height": 449
        },
        "id": "p_cFWFzlgn9K",
        "outputId": "77c3c1cf-8107-4a9b-d3df-65d2c237be7b"
      },
      "execution_count": 12,
      "outputs": [
        {
          "output_type": "display_data",
          "data": {
            "text/plain": [
              "<Figure size 640x480 with 1 Axes>"
            ],
            "image/png": "[encoded data removed]"
          },
          "metadata": {}
        }
      ]
    },
    {
      "cell_type": "code",
      "source": [
        "def smooth_curve(points, factor=0.9):\n",
        "    smoothed_points = []\n",
        "    for point in points:\n",
        "        if smoothed_points:\n",
        "            previous = smoothed_points[-1]\n",
        "            smoothed_points.append(previous * factor + point * (1 - factor))\n",
        "        else:\n",
        "            smoothed_points.append(point)\n",
        "    return smoothed_points\n"
      ],
      "metadata": {
        "id": "jIOs5gbjgq_W"
      },
      "execution_count": 13,
      "outputs": []
    },
    {
      "cell_type": "code",
      "source": [
        "smooth_mae_history = smooth_curve(average_mae_history[10:])\n",
        "\n",
        "plt.plot(range(1, len(smooth_mae_history) + 1), smooth_mae_history)\n",
        "plt.xlabel('Epochs')\n",
        "plt.ylabel('Validation MAE')\n",
        "plt.show()\n"
      ],
      "metadata": {
        "colab": {
          "base_uri": "https://localhost:8080/",
          "height": 449
        },
        "id": "ZGydCZwwguKg",
        "outputId": "6fa9354f-8a4b-43f5-9270-cb86e240227e"
      },
      "execution_count": 14,
      "outputs": [
        {
          "output_type": "display_data",
          "data": {
            "text/plain": [
              "<Figure size 640x480 with 1 Axes>"
            ],
            "image/png": "[encoded data removed]"
          },
          "metadata": {}
        }
      ]
    },
    {
      "cell_type": "code",
      "source": [
        "model = make_model()\n",
        "\n",
        "model.fit(train_data, train_target,epochs=80, batch_size=16)\n"
      ],
      "metadata": {
        "colab": {
          "base_uri": "https://localhost:8080/"
        },
        "id": "eNcYUO-WgwQZ",
        "outputId": "d0f8fe24-d6d2-4f6d-e3e0-9333d74a41ef"
      },
      "execution_count": 15,
      "outputs": [
        {
          "output_type": "stream",
          "name": "stdout",
          "text": [
            "Epoch 1/80\n",
            "26/26 [==============================] - 1s 2ms/step - loss: 494.2640 - mae: 20.1898\n",
            "Epoch 2/80\n",
            "26/26 [==============================] - 0s 2ms/step - loss: 333.9559 - mae: 15.6920\n",
            "Epoch 3/80\n",
            "26/26 [==============================] - 0s 2ms/step - loss: 180.5632 - mae: 10.7426\n",
            "Epoch 4/80\n",
            "26/26 [==============================] - 0s 2ms/step - loss: 87.0691 - mae: 6.8836\n",
            "Epoch 5/80\n",
            "26/26 [==============================] - 0s 2ms/step - loss: 49.3875 - mae: 5.0028\n",
            "Epoch 6/80\n",
            "26/26 [==============================] - 0s 2ms/step - loss: 33.2696 - mae: 4.0409\n",
            "Epoch 7/80\n",
            "26/26 [==============================] - 0s 2ms/step - loss: 25.7467 - mae: 3.6052\n",
            "Epoch 8/80\n",
            "26/26 [==============================] - 0s 2ms/step - loss: 21.4194 - mae: 3.2804\n",
            "Epoch 9/80\n",
            "26/26 [==============================] - 0s 2ms/step - loss: 19.1235 - mae: 3.1009\n",
            "Epoch 10/80\n",
            "26/26 [==============================] - 0s 2ms/step - loss: 17.6953 - mae: 2.9680\n",
            "Epoch 11/80\n",
            "26/26 [==============================] - 0s 2ms/step - loss: 16.2092 - mae: 2.8421\n",
            "Epoch 12/80\n",
            "26/26 [==============================] - 0s 2ms/step - loss: 15.0939 - mae: 2.7399\n",
            "Epoch 13/80\n",
            "26/26 [==============================] - 0s 3ms/step - loss: 14.1558 - mae: 2.6740\n",
            "Epoch 14/80\n",
            "26/26 [==============================] - 0s 2ms/step - loss: 13.2700 - mae: 2.5873\n",
            "Epoch 15/80\n",
            "26/26 [==============================] - 0s 2ms/step - loss: 12.7938 - mae: 2.5572\n",
            "Epoch 16/80\n",
            "26/26 [==============================] - 0s 2ms/step - loss: 12.2637 - mae: 2.4733\n",
            "Epoch 17/80\n",
            "26/26 [==============================] - 0s 2ms/step - loss: 11.6672 - mae: 2.4422\n",
            "Epoch 18/80\n",
            "26/26 [==============================] - 0s 2ms/step - loss: 11.2356 - mae: 2.4049\n",
            "Epoch 19/80\n",
            "26/26 [==============================] - 0s 2ms/step - loss: 10.8808 - mae: 2.3118\n",
            "Epoch 20/80\n",
            "26/26 [==============================] - 0s 2ms/step - loss: 10.7849 - mae: 2.3369\n",
            "Epoch 21/80\n",
            "26/26 [==============================] - 0s 2ms/step - loss: 10.5130 - mae: 2.2985\n",
            "Epoch 22/80\n",
            "26/26 [==============================] - 0s 2ms/step - loss: 10.1123 - mae: 2.2576\n",
            "Epoch 23/80\n",
            "26/26 [==============================] - 0s 2ms/step - loss: 9.9816 - mae: 2.2287\n",
            "Epoch 24/80\n",
            "26/26 [==============================] - 0s 2ms/step - loss: 9.7901 - mae: 2.1784\n",
            "Epoch 25/80\n",
            "26/26 [==============================] - 0s 2ms/step - loss: 9.4694 - mae: 2.1986\n",
            "Epoch 26/80\n",
            "26/26 [==============================] - 0s 2ms/step - loss: 9.4724 - mae: 2.2115\n",
            "Epoch 27/80\n",
            "26/26 [==============================] - 0s 2ms/step - loss: 9.2319 - mae: 2.1851\n",
            "Epoch 28/80\n",
            "26/26 [==============================] - 0s 4ms/step - loss: 9.3614 - mae: 2.1607\n",
            "Epoch 29/80\n",
            "26/26 [==============================] - 0s 3ms/step - loss: 8.9097 - mae: 2.1257\n",
            "Epoch 30/80\n",
            "26/26 [==============================] - 0s 5ms/step - loss: 8.7788 - mae: 2.0792\n",
            "Epoch 31/80\n",
            "26/26 [==============================] - 0s 3ms/step - loss: 8.8663 - mae: 2.1333\n",
            "Epoch 32/80\n",
            "26/26 [==============================] - 0s 3ms/step - loss: 8.9174 - mae: 2.1125\n",
            "Epoch 33/80\n",
            "26/26 [==============================] - 0s 3ms/step - loss: 8.5486 - mae: 2.0749\n",
            "Epoch 34/80\n",
            "26/26 [==============================] - 0s 3ms/step - loss: 8.4046 - mae: 2.0916\n",
            "Epoch 35/80\n",
            "26/26 [==============================] - 0s 4ms/step - loss: 8.3256 - mae: 2.0185\n",
            "Epoch 36/80\n",
            "26/26 [==============================] - 0s 3ms/step - loss: 8.2398 - mae: 2.0644\n",
            "Epoch 37/80\n",
            "26/26 [==============================] - 0s 3ms/step - loss: 8.3466 - mae: 2.0636\n",
            "Epoch 38/80\n",
            "26/26 [==============================] - 0s 4ms/step - loss: 8.1586 - mae: 2.0067\n",
            "Epoch 39/80\n",
            "26/26 [==============================] - 0s 4ms/step - loss: 8.0128 - mae: 2.0171\n",
            "Epoch 40/80\n",
            "26/26 [==============================] - 0s 5ms/step - loss: 7.9532 - mae: 2.0015\n",
            "Epoch 41/80\n",
            "26/26 [==============================] - 0s 3ms/step - loss: 7.9278 - mae: 1.9894\n",
            "Epoch 42/80\n",
            "26/26 [==============================] - 0s 3ms/step - loss: 7.7442 - mae: 1.9492\n",
            "Epoch 43/80\n",
            "26/26 [==============================] - 0s 2ms/step - loss: 7.6665 - mae: 2.0026\n",
            "Epoch 44/80\n",
            "26/26 [==============================] - 0s 2ms/step - loss: 7.7382 - mae: 1.9760\n",
            "Epoch 45/80\n",
            "26/26 [==============================] - 0s 2ms/step - loss: 7.5893 - mae: 1.9727\n",
            "Epoch 46/80\n",
            "26/26 [==============================] - 0s 2ms/step - loss: 7.6259 - mae: 1.9578\n",
            "Epoch 47/80\n",
            "26/26 [==============================] - 0s 2ms/step - loss: 7.3565 - mae: 1.9201\n",
            "Epoch 48/80\n",
            "26/26 [==============================] - 0s 2ms/step - loss: 7.3528 - mae: 1.8905\n",
            "Epoch 49/80\n",
            "26/26 [==============================] - 0s 2ms/step - loss: 7.3835 - mae: 1.9544\n",
            "Epoch 50/80\n",
            "26/26 [==============================] - 0s 3ms/step - loss: 7.3078 - mae: 1.9239\n",
            "Epoch 51/80\n",
            "26/26 [==============================] - 0s 2ms/step - loss: 7.2328 - mae: 1.9188\n",
            "Epoch 52/80\n",
            "26/26 [==============================] - 0s 2ms/step - loss: 7.0283 - mae: 1.8738\n",
            "Epoch 53/80\n",
            "26/26 [==============================] - 0s 2ms/step - loss: 7.2971 - mae: 1.9368\n",
            "Epoch 54/80\n",
            "26/26 [==============================] - 0s 2ms/step - loss: 6.9138 - mae: 1.8629\n",
            "Epoch 55/80\n",
            "26/26 [==============================] - 0s 2ms/step - loss: 6.9492 - mae: 1.8652\n",
            "Epoch 56/80\n",
            "26/26 [==============================] - 0s 2ms/step - loss: 7.0861 - mae: 1.8641\n",
            "Epoch 57/80\n",
            "26/26 [==============================] - 0s 2ms/step - loss: 6.8265 - mae: 1.8554\n",
            "Epoch 58/80\n",
            "26/26 [==============================] - 0s 2ms/step - loss: 6.6622 - mae: 1.8355\n",
            "Epoch 59/80\n",
            "26/26 [==============================] - 0s 2ms/step - loss: 6.6929 - mae: 1.7870\n",
            "Epoch 60/80\n",
            "26/26 [==============================] - 0s 2ms/step - loss: 6.7594 - mae: 1.8363\n",
            "Epoch 61/80\n",
            "26/26 [==============================] - 0s 2ms/step - loss: 6.6928 - mae: 1.8379\n",
            "Epoch 62/80\n",
            "26/26 [==============================] - 0s 2ms/step - loss: 6.8029 - mae: 1.8381\n",
            "Epoch 63/80\n",
            "26/26 [==============================] - 0s 2ms/step - loss: 6.5727 - mae: 1.7874\n",
            "Epoch 64/80\n",
            "26/26 [==============================] - 0s 2ms/step - loss: 6.5340 - mae: 1.8091\n",
            "Epoch 65/80\n",
            "26/26 [==============================] - 0s 2ms/step - loss: 6.4477 - mae: 1.8151\n",
            "Epoch 66/80\n",
            "26/26 [==============================] - 0s 2ms/step - loss: 6.4276 - mae: 1.7920\n",
            "Epoch 67/80\n",
            "26/26 [==============================] - 0s 2ms/step - loss: 6.4013 - mae: 1.8048\n",
            "Epoch 68/80\n",
            "26/26 [==============================] - 0s 2ms/step - loss: 6.3193 - mae: 1.7836\n",
            "Epoch 69/80\n",
            "26/26 [==============================] - 0s 2ms/step - loss: 6.3608 - mae: 1.7800\n",
            "Epoch 70/80\n",
            "26/26 [==============================] - 0s 2ms/step - loss: 6.3440 - mae: 1.8063\n",
            "Epoch 71/80\n",
            "26/26 [==============================] - 0s 2ms/step - loss: 6.2380 - mae: 1.7615\n",
            "Epoch 72/80\n",
            "26/26 [==============================] - 0s 2ms/step - loss: 6.1791 - mae: 1.7628\n",
            "Epoch 73/80\n",
            "26/26 [==============================] - 0s 2ms/step - loss: 6.1281 - mae: 1.7394\n",
            "Epoch 74/80\n",
            "26/26 [==============================] - 0s 2ms/step - loss: 6.1153 - mae: 1.7531\n",
            "Epoch 75/80\n",
            "26/26 [==============================] - 0s 2ms/step - loss: 6.0091 - mae: 1.7279\n",
            "Epoch 76/80\n",
            "26/26 [==============================] - 0s 2ms/step - loss: 5.9908 - mae: 1.7333\n",
            "Epoch 77/80\n",
            "26/26 [==============================] - 0s 2ms/step - loss: 5.8818 - mae: 1.7192\n",
            "Epoch 78/80\n",
            "26/26 [==============================] - 0s 2ms/step - loss: 5.9120 - mae: 1.7402\n",
            "Epoch 79/80\n",
            "26/26 [==============================] - 0s 2ms/step - loss: 5.7264 - mae: 1.6993\n",
            "Epoch 80/80\n",
            "26/26 [==============================] - 0s 2ms/step - loss: 5.8094 - mae: 1.7085\n"
          ]
        },
        {
          "output_type": "execute_result",
          "data": {
            "text/plain": [
              "<keras.callbacks.History at 0x7f7c244bcf40>"
            ]
          },
          "metadata": {},
          "execution_count": 15
        }
      ]
    },
    {
      "cell_type": "code",
      "source": [
        "test_mse_score, test_mae_score = model.evaluate(test_data, test_target)\n"
      ],
      "metadata": {
        "colab": {
          "base_uri": "https://localhost:8080/"
        },
        "id": "laMZMQwegzEn",
        "outputId": "d1c9d7cb-1426-4dae-bf6a-52a347f1e858"
      },
      "execution_count": 16,
      "outputs": [
        {
          "output_type": "stream",
          "name": "stdout",
          "text": [
            "4/4 [==============================] - 0s 3ms/step - loss: 16.9679 - mae: 2.7263\n"
          ]
        }
      ]
    }
  ]
}