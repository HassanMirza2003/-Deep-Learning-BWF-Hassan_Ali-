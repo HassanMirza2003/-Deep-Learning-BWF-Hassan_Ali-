{
  "nbformat": 4,
  "nbformat_minor": 0,
  "metadata": {
    "colab": {
      "provenance": []
    },
    "kernelspec": {
      "name": "python3",
      "display_name": "Python 3"
    },
    "language_info": {
      "name": "python"
    }
  },
  "cells": [
    {
      "cell_type": "markdown",
      "source": [
        "Supervised learning involves training an algorithm on labeled data, where the input data is accompanied by the correct output. By predicting the output based on input data, the algorithm learns. For instance, identifying whether an email is spam or not by examining its content and header information, or determining the sentiment of customer reviews as positive, negative, or neutral.\n",
        "\n",
        "Unsupervised learning, on the other hand, doesn't rely on labeled data. Rather, it identifies patterns or structures within the input data. For example, clustering customer data to identify different customer segments based on their buying behavior.\n",
        "\n",
        "Self-supervised learning is a type of machine learning that trains algorithms to learn input data representations without explicit supervision. By creating a supervisory signal from input data instead of relying on labeled data, the algorithm predicts an input data property like color, rotation, or context. Later, it uses the learned representations to solve downstream tasks.\n",
        "\n",
        "Reinforcement learning, meanwhile, trains an algorithm to make a sequence of decisions using past experiences and feedback from its environment. In games, for example, an algorithm is trained to navigate a maze and maximize reward while minimizing penalty.\n",
        "\n",
        "\n",
        "\n",
        "\n"
      ],
      "metadata": {
        "id": "lCcDEgx6X1Vu"
      }
    }
  ]
}