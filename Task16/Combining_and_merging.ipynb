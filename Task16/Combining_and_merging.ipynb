{
  "nbformat": 4,
  "nbformat_minor": 0,
  "metadata": {
    "colab": {
      "provenance": []
    },
    "kernelspec": {
      "name": "python3",
      "display_name": "Python 3"
    },
    "language_info": {
      "name": "python"
    }
  },
  "cells": [
    {
      "cell_type": "code",
      "execution_count": 1,
      "metadata": {
        "colab": {
          "base_uri": "https://localhost:8080/"
        },
        "id": "v9V_XYb5qOJ7",
        "outputId": "8368afab-fbd3-4626-c0d3-3fcd79eb7324"
      },
      "outputs": [
        {
          "output_type": "stream",
          "name": "stdout",
          "text": [
            "   A  B\n",
            "0  1  4\n",
            "1  2  5\n",
            "2  3  6\n",
            "0  4  7\n",
            "1  5  8\n",
            "2  6  9\n"
          ]
        }
      ],
      "source": [
        "import pandas as pd\n",
        "\n",
        "df1 = pd.DataFrame({'A': [1, 2, 3], 'B': [4, 5, 6]})\n",
        "df2 = pd.DataFrame({'A': [4, 5, 6], 'B': [7, 8, 9]})\n",
        "\n",
        "# concatenate the DataFrames row-wise\n",
        "result = pd.concat([df1, df2])\n",
        "print(result)\n"
      ]
    },
    {
      "cell_type": "code",
      "source": [
        "df1 = pd.DataFrame({'name': ['Hassan', 'ALi', 'Muneeb', 'Ahmed'], 'Rollno': [1, 2, 3, 4]})\n",
        "df2 = pd.DataFrame({'name': ['Ahmed', 'Faiz', 'Wasi', 'Muneeb'], 'Rollno': [5, 6, 7, 8]})\n",
        "\n",
        "# merge the DataFrames based on the 'name' column\n",
        "result = pd.merge(df1, df2, on='name')\n",
        "print(result)\n"
      ],
      "metadata": {
        "colab": {
          "base_uri": "https://localhost:8080/"
        },
        "id": "HEN9_zwjqzSc",
        "outputId": "f5ecd29b-3840-40f3-ac6d-1f5b59826888"
      },
      "execution_count": 5,
      "outputs": [
        {
          "output_type": "stream",
          "name": "stdout",
          "text": [
            "     name  Rollno_x  Rollno_y\n",
            "0  Muneeb         3         8\n",
            "1   Ahmed         4         5\n"
          ]
        }
      ]
    },
    {
      "cell_type": "code",
      "source": [
        "df1 = pd.DataFrame({'A': [1, 2, 3], 'B': [4, 5, 6]}, index=['X', 'Y', 'Z'])\n",
        "df2 = pd.DataFrame({'C': [7, 8, 9], 'D': [10, 11, 12]}, index=['X', 'Y', 'Z'])\n",
        "\n",
        "# join the DataFrames based on index\n",
        "result = df1.join(df2)\n",
        "print(result)\n"
      ],
      "metadata": {
        "colab": {
          "base_uri": "https://localhost:8080/"
        },
        "id": "XG5ncXikrgbu",
        "outputId": "8cf27900-f45b-4a26-ff1c-98dcf1534f0d"
      },
      "execution_count": 7,
      "outputs": [
        {
          "output_type": "stream",
          "name": "stdout",
          "text": [
            "   A  B  C   D\n",
            "X  1  4  7  10\n",
            "Y  2  5  8  11\n",
            "Z  3  6  9  12\n"
          ]
        }
      ]
    },
    {
      "cell_type": "code",
      "source": [
        "import numpy as np\n",
        "\n",
        "arr1d = np.array([1, 2, 3, 4, 5, 6])\n",
        "\n",
        "# reshape the array to a 2D array with 2 rows and 3 columns\n",
        "arr2d = arr1d.reshape((2, 3))\n",
        "\n",
        "print(arr2d)\n"
      ],
      "metadata": {
        "colab": {
          "base_uri": "https://localhost:8080/"
        },
        "id": "JJNPL0PTsBDw",
        "outputId": "db81f9a4-c53c-4f99-bf81-7eacc461f495"
      },
      "execution_count": 10,
      "outputs": [
        {
          "output_type": "stream",
          "name": "stdout",
          "text": [
            "[[1 2 3]\n",
            " [4 5 6]]\n"
          ]
        }
      ]
    }
  ]
}