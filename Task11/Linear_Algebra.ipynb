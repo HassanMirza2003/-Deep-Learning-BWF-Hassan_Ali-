{
  "nbformat": 4,
  "nbformat_minor": 0,
  "metadata": {
    "colab": {
      "provenance": []
    },
    "kernelspec": {
      "name": "python3",
      "display_name": "Python 3"
    },
    "language_info": {
      "name": "python"
    }
  },
  "cells": [
    {
      "cell_type": "code",
      "execution_count": 2,
      "metadata": {
        "colab": {
          "base_uri": "https://localhost:8080/"
        },
        "id": "jYF-TlXnAtHG",
        "outputId": "be106dbd-4a38-4dcc-abae-de01acf5b65a"
      },
      "outputs": [
        {
          "output_type": "stream",
          "name": "stdout",
          "text": [
            "[[82000  5200]\n",
            " [ 5030   367]]\n"
          ]
        }
      ],
      "source": [
        "import numpy as np  \n",
        "a = np.array([[200,200],[23,12]])  \n",
        "b = np.array([[10,5],[400,21]])  \n",
        "dot = np.dot(a,b)  \n",
        "print(dot)  \n"
      ]
    },
    {
      "cell_type": "code",
      "source": [
        "print(np.vdot(a,b))"
      ],
      "metadata": {
        "colab": {
          "base_uri": "https://localhost:8080/"
        },
        "id": "xgV-z4UzBUGK",
        "outputId": "b9efe4a7-95cf-44be-b685-95138ac838e3"
      },
      "execution_count": 3,
      "outputs": [
        {
          "output_type": "stream",
          "name": "stdout",
          "text": [
            "12452\n"
          ]
        }
      ]
    },
    {
      "cell_type": "code",
      "source": [
        "print(np.inner(a,b))"
      ],
      "metadata": {
        "colab": {
          "base_uri": "https://localhost:8080/"
        },
        "id": "Na1_yyE0Bc_T",
        "outputId": "833046c3-01f0-4ae9-ac66-c03a7d8db0fc"
      },
      "execution_count": 4,
      "outputs": [
        {
          "output_type": "stream",
          "name": "stdout",
          "text": [
            "[[ 3000 84200]\n",
            " [  290  9452]]\n"
          ]
        }
      ]
    },
    {
      "cell_type": "code",
      "source": [
        "a = np.array([[1,2,3],[4,5,6],[7,8,9]])  \n",
        "b = np.array([[23,23,12],[2,1,2],[7,8,9]])  \n",
        "mul = np.matmul(a,b)  \n",
        "print(mul)  \n"
      ],
      "metadata": {
        "colab": {
          "base_uri": "https://localhost:8080/"
        },
        "id": "CW1sS5DWBjQQ",
        "outputId": "6f80bff7-57bd-44bf-b1b6-0122a6be2272"
      },
      "execution_count": 6,
      "outputs": [
        {
          "output_type": "stream",
          "name": "stdout",
          "text": [
            "[[ 48  49  43]\n",
            " [144 145 112]\n",
            " [240 241 181]]\n"
          ]
        }
      ]
    },
    {
      "cell_type": "code",
      "source": [
        "a = np.array([[1,2],[3,4]])  \n",
        "print(np.linalg.det(a))"
      ],
      "metadata": {
        "colab": {
          "base_uri": "https://localhost:8080/"
        },
        "id": "QZXqtm4eB4au",
        "outputId": "76b33a8f-381e-49da-949d-c124021cab0f"
      },
      "execution_count": 7,
      "outputs": [
        {
          "output_type": "stream",
          "name": "stdout",
          "text": [
            "-2.0000000000000004\n"
          ]
        }
      ]
    },
    {
      "cell_type": "code",
      "source": [
        "a = np.array([[1,2],[3,4]])  \n",
        "b = np.array([[1,2],[3,4]])  \n",
        "print(np.linalg.solve(a, b))  \n"
      ],
      "metadata": {
        "colab": {
          "base_uri": "https://localhost:8080/"
        },
        "id": "a7NvOpAHB9dN",
        "outputId": "86cc1138-8f36-496a-eb09-f922f1e29c41"
      },
      "execution_count": 8,
      "outputs": [
        {
          "output_type": "stream",
          "name": "stdout",
          "text": [
            "[[1. 0.]\n",
            " [0. 1.]]\n"
          ]
        }
      ]
    },
    {
      "cell_type": "code",
      "source": [
        "a = np.array([[1,2],[3,4]])  \n",
        "print(\"Original array:\\n\",a)  \n",
        "b = np.linalg.inv(a)  \n",
        "print(\"Inverse:\\n\",b)  \n"
      ],
      "metadata": {
        "id": "9UC-anjwCE_o",
        "outputId": "a8b1db93-7c9a-41ff-c74b-cf5f6db52e67",
        "colab": {
          "base_uri": "https://localhost:8080/"
        }
      },
      "execution_count": 9,
      "outputs": [
        {
          "output_type": "stream",
          "name": "stdout",
          "text": [
            "Original array:\n",
            " [[1 2]\n",
            " [3 4]]\n",
            "Inverse:\n",
            " [[-2.   1. ]\n",
            " [ 1.5 -0.5]]\n"
          ]
        }
      ]
    }
  ]
}